{
 "cells": [
  {
   "cell_type": "markdown",
   "metadata": {},
   "source": [
    "https://github.com/qubvel/segmentation_models.pytorch#architectures-"
   ]
  },
  {
   "cell_type": "markdown",
   "metadata": {},
   "source": [
    "https://github.com/qubvel/segmentation_models.pytorch/blob/master/HALLOFFAME.md"
   ]
  },
  {
   "cell_type": "markdown",
   "metadata": {},
   "source": [
    "https://github.com/qubvel/open-cities-challenge/tree/master"
   ]
  },
  {
   "cell_type": "markdown",
   "metadata": {},
   "source": [
    "U-Net with MaxViT encoder\n",
    "https://www.kaggle.com/competitions/google-research-identify-contrails-reduce-global-warming/discussion/430618"
   ]
  },
  {
   "cell_type": "code",
   "execution_count": null,
   "metadata": {},
   "outputs": [],
   "source": [
    "max_lr = 1e-3\n",
    "epoch = 50\n",
    "weight_decay = 1e-6\n",
    "\n",
    "optimizer = torch.optim.Adam(model.parameters(), lr=max_lr, weight_decay=weight_decay)\n",
    "sched = torch.optim.lr_scheduler.OneCycleLR(optimizer, max_lr, epochs=epoch,\n",
    "                                            steps_per_epoch=len(train_loader))"
   ]
  },
  {
   "cell_type": "code",
   "execution_count": null,
   "metadata": {},
   "outputs": [],
   "source": [
    "rows=4\n",
    "cols = 4\n",
    "img_count = 0\n",
    "\n",
    "fig, axes = plt.subplots(nrows=rows, ncols=cols, figsize=(15,15))\n",
    "  \n",
    "for i in range(rows):\n",
    "    image , mask = test_set[i]\n",
    "    pred_mask , score = predict_image_mask(model , image , mask)\n",
    "    \n",
    "    axes[0, 0].set_title('Picture');\n",
    "    axes[0, 1].set_title('UNET++ OUTPUT')\n",
    "    axes[0, 2].set_title('Prediction')\n",
    "    axes[0, 3].set_title('Ground Truth')\n",
    "    \n",
    "    if img_count < len(images):\n",
    "        axes[i, 0].imshow(image)\n",
    "        axes[i, 0].set_axis_off()\n",
    "        \n",
    "        axes[i, 1].imshow(pred_mask)\n",
    "        axes[i, 1].set_axis_off()\n",
    "        \n",
    "        axes[i, 2].imshow(image)\n",
    "        axes[i, 2].imshow(pred_mask , alpha =0.4)\n",
    "        axes[i, 2].set_axis_off()\n",
    "        \n",
    "        axes[i, 3].imshow(image)\n",
    "        axes[i, 3].imshow(mask , alpha =0.4)\n",
    "        axes[i, 3].set_axis_off()\n",
    "        \n",
    "plt.savefig('./out.jpg',dpi=300)"
   ]
  }
 ],
 "metadata": {
  "language_info": {
   "name": "python"
  }
 },
 "nbformat": 4,
 "nbformat_minor": 2
}
