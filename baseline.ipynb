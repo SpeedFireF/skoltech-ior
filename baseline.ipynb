{
 "cells": [
  {
   "cell_type": "code",
   "execution_count": 7,
   "metadata": {},
   "outputs": [],
   "source": [
    "import cv2 \n",
    "import os \n",
    "import matplotlib.pyplot as plt \n",
    "import matplotlib.patches as patches \n",
    "import numpy as np \n",
    "from PIL import Image \n",
    " \n",
    "# Specify the path to your image directory \n",
    "image_dir = 'train_updated_titiles/images' \n",
    "mask_dir = 'train_updated_titiles/masks' \n",
    " \n",
    "image_files = sorted([f for f in os.listdir(image_dir) if os.path.isfile(os.path.join(image_dir, f))])\n",
    "mask_files = sorted([f for f in os.listdir(mask_dir) if os.path.isfile(os.path.join(mask_dir, f))])\n",
    "\n",
    "# Loop through each image file and display it \n",
    "for image_file, mask_file in zip(image_files, mask_files):\n",
    "    if os.path.splitext(image_file)[1] == '.png' and os.path.splitext(mask_file)[1] == '.png':\n",
    "        image_path = os.path.join(image_dir, image_file)\n",
    "        mask_path = os.path.join(mask_dir, mask_file)\n",
    "        # Read the image \n",
    "        image = cv2.imread(image_path) \n",
    "        mask = cv2.imread(mask_path) \n",
    "        \n",
    "        binary_mask = np.any(mask > 0, axis=-1) \n",
    "    \n",
    "        image[binary_mask] = [255, 0, 0] \n",
    "    \n",
    "        pil_image = Image.fromarray(image) \n",
    "        pil_image.show()\n",
    "        break"
   ]
  },
  {
   "cell_type": "code",
   "execution_count": null,
   "metadata": {},
   "outputs": [],
   "source": []
  },
  {
   "cell_type": "markdown",
   "metadata": {},
   "source": []
  }
 ],
 "metadata": {
  "kernelspec": {
   "display_name": "Python 3",
   "language": "python",
   "name": "python3"
  },
  "language_info": {
   "codemirror_mode": {
    "name": "ipython",
    "version": 3
   },
   "file_extension": ".py",
   "mimetype": "text/x-python",
   "name": "python",
   "nbconvert_exporter": "python",
   "pygments_lexer": "ipython3",
   "version": "3.11.2"
  }
 },
 "nbformat": 4,
 "nbformat_minor": 2
}
